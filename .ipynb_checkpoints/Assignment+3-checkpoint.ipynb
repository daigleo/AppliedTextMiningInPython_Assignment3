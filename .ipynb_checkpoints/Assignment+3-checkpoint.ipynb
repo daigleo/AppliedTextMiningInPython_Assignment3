{
 "cells": [
  {
   "cell_type": "markdown",
   "metadata": {},
   "source": [
    "---\n",
    "\n",
    "_You are currently looking at **version 1.1** of this notebook. To download notebooks and datafiles, as well as get help on Jupyter notebooks in the Coursera platform, visit the [Jupyter Notebook FAQ](https://www.coursera.org/learn/python-text-mining/resources/d9pwm) course resource._\n",
    "\n",
    "---"
   ]
  },
  {
   "cell_type": "markdown",
   "metadata": {},
   "source": [
    "# Assignment 3\n",
    "\n",
    "In this assignment you will explore text message data and create models to predict if a message is spam or not. "
   ]
  },
  {
   "cell_type": "code",
   "execution_count": null,
   "metadata": {},
   "outputs": [],
   "source": [
    "import pandas as pd\n",
    "import numpy as np\n",
    "\n",
    "spam_data = pd.read_csv('spam.csv')\n",
    "\n",
    "spam_data['target'] = np.where(spam_data['target']=='spam',1,0)\n",
    "# spam_data.head(10)"
   ]
  },
  {
   "cell_type": "code",
   "execution_count": null,
   "metadata": {},
   "outputs": [],
   "source": [
    "from sklearn.model_selection import train_test_split\n",
    "\n",
    "\n",
    "X_train, X_test, y_train, y_test = train_test_split(spam_data['text'], \n",
    "                                                    spam_data['target'], \n",
    "                                                    random_state=0)"
   ]
  },
  {
   "cell_type": "markdown",
   "metadata": {},
   "source": [
    "### Question 1\n",
    "What percentage of the documents in `spam_data` are spam?\n",
    "\n",
    "*This function should return a float, the percent value (i.e. $ratio * 100$).*"
   ]
  },
  {
   "cell_type": "code",
   "execution_count": null,
   "metadata": {},
   "outputs": [],
   "source": [
    "def answer_one():\n",
    "    \n",
    "    \n",
    "    return 100 * spam_data['target'].sum() / spam_data['target'].count()\n",
    "# answer_one()"
   ]
  },
  {
   "cell_type": "markdown",
   "metadata": {},
   "source": [
    "### Question 2\n",
    "\n",
    "Fit the training data `X_train` using a Count Vectorizer with default parameters.\n",
    "\n",
    "What is the longest token in the vocabulary?\n",
    "\n",
    "*This function should return a string.*"
   ]
  },
  {
   "cell_type": "code",
   "execution_count": null,
   "metadata": {},
   "outputs": [],
   "source": [
    "from sklearn.feature_extraction.text import CountVectorizer\n",
    "\n",
    "def answer_two():\n",
    "    cv = CountVectorizer().fit(X_train)\n",
    "    feats = [(token, len(token)) for token in cv.get_feature_names()]\n",
    "    feats = sorted(feats, reverse = True, key=lambda x: x[1])\n",
    "    \n",
    "    \n",
    "    return feats[0][0]\n",
    "# answer_two()"
   ]
  },
  {
   "cell_type": "markdown",
   "metadata": {},
   "source": [
    "### Question 3\n",
    "\n",
    "Fit and transform the training data `X_train` using a Count Vectorizer with default parameters.\n",
    "\n",
    "Next, fit a fit a multinomial Naive Bayes classifier model with smoothing `alpha=0.1`. Find the area under the curve (AUC) score using the transformed test data.\n",
    "\n",
    "*This function should return the AUC score as a float.*"
   ]
  },
  {
   "cell_type": "code",
   "execution_count": null,
   "metadata": {},
   "outputs": [],
   "source": [
    "from sklearn.naive_bayes import MultinomialNB\n",
    "from sklearn.metrics import roc_auc_score\n",
    "from sklearn.feature_extraction.text import CountVectorizer\n",
    "\n",
    "def answer_three():\n",
    "    cv = CountVectorizer().fit(X_train)\n",
    "    X_train_vect = cv.transform(X_train)\n",
    "    mnb = MultinomialNB(alpha=0.1).fit(X_train_vect, y_train)\n",
    "    \n",
    "    X_test_vect = cv.transform(X_test)\n",
    "    y_pred = mnb.predict(X_test_vect)\n",
    "    \n",
    "    \n",
    "    return roc_auc_score(y_test, y_pred)\n",
    "\n",
    "# answer_three()"
   ]
  },
  {
   "cell_type": "markdown",
   "metadata": {},
   "source": [
    "### Question 4\n",
    "\n",
    "Fit and transform the training data `X_train` using a Tfidf Vectorizer with default parameters.\n",
    "\n",
    "What 20 features have the smallest tf-idf and what 20 have the largest tf-idf?\n",
    "\n",
    "Put these features in a two series where each series is sorted by tf-idf value and then alphabetically by feature name. The index of the series should be the feature name, and the data should be the tf-idf.\n",
    "\n",
    "The series of 20 features with smallest tf-idfs should be sorted smallest tfidf first, the list of 20 features with largest tf-idfs should be sorted largest first. \n",
    "\n",
    "*This function should return a tuple of two series\n",
    "`(smallest tf-idfs series, largest tf-idfs series)`.*"
   ]
  },
  {
   "cell_type": "code",
   "execution_count": null,
   "metadata": {},
   "outputs": [],
   "source": [
    "from sklearn.feature_extraction.text import TfidfVectorizer\n",
    "\n",
    "def answer_four():\n",
    "    tfidf_vect = TfidfVectorizer().fit(X_train)\n",
    "    X_train_vect = pd.Series(tfidf_vect.transform(X_train).max(0).toarray()[0])\n",
    "    feat_names = pd.Series(tfidf_vect.get_feature_names())\n",
    "    \n",
    "    b = pd.DataFrame({'features':feat_names, 'tfidf':X_train_vect})\n",
    "    b.sort_values(by=['tfidf','features'],inplace = True)\n",
    "    b.set_index('features', inplace = True)\n",
    "    b.index.name = None\n",
    "    \n",
    "    smallest = b.iloc[:20,0]\n",
    "    largest = b.iloc[-20:,0]\n",
    "    smallest.name = None\n",
    "    largest.name = None\n",
    "\n",
    "    \n",
    "    return (smallest, largest)\n",
    "# a = answer_four()\n",
    "\n",
    "#     This thread has useful information clarifying the question\n",
    "#     https://www.coursera.org/learn/python-text-mining/discussions/weeks/3/threads/4y22x-3KEeeaYw6MXNSBHA\n",
    "#     https://kavita-ganesan.com/tfidftransformer-tfidfvectorizer-usage-differences/"
   ]
  },
  {
   "cell_type": "markdown",
   "metadata": {},
   "source": [
    "### Question 5\n",
    "\n",
    "Fit and transform the training data `X_train` using a Tfidf Vectorizer ignoring terms that have a document frequency strictly lower than **3**.\n",
    "\n",
    "Then fit a multinomial Naive Bayes classifier model with smoothing `alpha=0.1` and compute the area under the curve (AUC) score using the transformed test data.\n",
    "\n",
    "*This function should return the AUC score as a float.*"
   ]
  },
  {
   "cell_type": "code",
   "execution_count": null,
   "metadata": {},
   "outputs": [],
   "source": [
    "from sklearn.feature_extraction.text import TfidfVectorizer\n",
    "from sklearn.naive_bayes import MultinomialNB\n",
    "from sklearn.metrics import roc_auc_score\n",
    "\n",
    "def answer_five():\n",
    "    tfidf_vect = TfidfVectorizer(min_df=3).fit(X_train)\n",
    "    X_train_vect = tfidf_vect.transform(X_train)\n",
    "    \n",
    "    \n",
    "    mnb = MultinomialNB(alpha=0.1).fit(X_train_vect, y_train)\n",
    "    X_test_vect = tfidf_vect.transform(X_test)\n",
    "    y_pred = mnb.predict(X_test_vect)\n",
    "    \n",
    "    return roc_auc_score(y_test, y_pred)\n",
    "\n",
    "# answer_five()"
   ]
  },
  {
   "cell_type": "markdown",
   "metadata": {},
   "source": [
    "### Question 6\n",
    "\n",
    "What is the average length of documents (number of characters) for not spam and spam documents?\n",
    "\n",
    "*This function should return a tuple (average length not spam, average length spam).*"
   ]
  },
  {
   "cell_type": "code",
   "execution_count": null,
   "metadata": {},
   "outputs": [],
   "source": [
    "def answer_six():\n",
    "    sd = spam_data.copy()\n",
    "    sd['doc_length'] = sd['text'].str.len()\n",
    "    \n",
    "    mean_len = sd.groupby('target')['doc_length'].mean()\n",
    "    mean_len.name = None\n",
    "    mean_len.index.name = None\n",
    "    \n",
    "    return (mean_len.iloc[0], mean_len.iloc[1])\n",
    "# a = answer_six()\n",
    "# a"
   ]
  },
  {
   "cell_type": "markdown",
   "metadata": {},
   "source": [
    "<br>\n",
    "<br>\n",
    "The following function has been provided to help you combine new features into the training data:"
   ]
  },
  {
   "cell_type": "code",
   "execution_count": null,
   "metadata": {},
   "outputs": [],
   "source": [
    "def add_feature(X, feature_to_add):\n",
    "    \"\"\"\n",
    "    Returns sparse feature matrix with added feature.\n",
    "    feature_to_add can also be a list of features.\n",
    "    \"\"\"\n",
    "    from scipy.sparse import csr_matrix, hstack\n",
    "    return hstack([X, csr_matrix(feature_to_add).T], 'csr')"
   ]
  },
  {
   "cell_type": "markdown",
   "metadata": {},
   "source": [
    "### Question 7\n",
    "\n",
    "Fit and transform the training data X_train using a Tfidf Vectorizer ignoring terms that have a document frequency strictly lower than **5**.\n",
    "\n",
    "Using this document-term matrix and an additional feature, **the length of document (number of characters)**, fit a Support Vector Classification model with regularization `C=10000`. Then compute the area under the curve (AUC) score using the transformed test data.\n",
    "\n",
    "*This function should return the AUC score as a float.*"
   ]
  },
  {
   "cell_type": "code",
   "execution_count": null,
   "metadata": {},
   "outputs": [],
   "source": [
    "from sklearn.svm import SVC\n",
    "from sklearn.feature_extraction.text import TfidfVectorizer\n",
    "from sklearn.metrics import roc_auc_score\n",
    "\n",
    "def answer_seven():\n",
    "    tfidf_vect = TfidfVectorizer(min_df=5).fit(X_train)\n",
    "    X_train_vect = tfidf_vect.transform(X_train)\n",
    "    X_train_len = [len(doc) for doc in X_train]\n",
    "    X_train_vect = add_feature(X_train_vect, X_train_len)\n",
    "    \n",
    "    svc = SVC(gamma = 'auto', C = 10000).fit(X_train_vect, y_train)\n",
    "    \n",
    "    X_test_vect = tfidf_vect.transform(X_test)\n",
    "    X_test_len = [len(doc) for doc in X_test]\n",
    "    X_test_vect = add_feature(X_test_vect, X_test_len)\n",
    "    y_pred = svc.predict(X_test_vect)\n",
    "    \n",
    "    return roc_auc_score(y_test, y_pred)\n",
    "# answer_seven()"
   ]
  },
  {
   "cell_type": "markdown",
   "metadata": {},
   "source": [
    "### Question 8\n",
    "\n",
    "What is the average number of digits per document for not spam and spam documents?\n",
    "\n",
    "*This function should return a tuple (average # digits not spam, average # digits spam).*"
   ]
  },
  {
   "cell_type": "code",
   "execution_count": null,
   "metadata": {},
   "outputs": [],
   "source": [
    "def answer_eight():\n",
    "    sd = spam_data.copy()\n",
    "    sd['digit_count'] = sd['text'].apply(lambda x: sum([1 if char.isdigit() else 0 for char in x]))\n",
    "    mean_digits = sd.groupby('target')['digit_count'].mean()\n",
    "    mean_digits.index.name = None\n",
    "    mean_digits.name = None\n",
    "    \n",
    "    return (mean_digits[0], mean_digits[1])\n",
    "# answer_eight()"
   ]
  },
  {
   "cell_type": "markdown",
   "metadata": {},
   "source": [
    "### Question 9\n",
    "\n",
    "Fit and transform the training data `X_train` using a Tfidf Vectorizer ignoring terms that have a document frequency strictly lower than **5** and using **word n-grams from n=1 to n=3** (unigrams, bigrams, and trigrams).\n",
    "\n",
    "Using this document-term matrix and the following additional features:\n",
    "* the length of document (number of characters)\n",
    "* **number of digits per document**\n",
    "\n",
    "fit a Logistic Regression model with regularization `C=100`. Then compute the area under the curve (AUC) score using the transformed test data.\n",
    "\n",
    "*This function should return the AUC score as a float.*"
   ]
  },
  {
   "cell_type": "code",
   "execution_count": null,
   "metadata": {},
   "outputs": [],
   "source": [
    "from sklearn.feature_extraction.text import TfidfVectorizer\n",
    "from sklearn.metrics import roc_auc_score\n",
    "from sklearn.linear_model import LogisticRegression\n",
    "\n",
    "def answer_nine():\n",
    "    # Train vectorizer and transform training set\n",
    "    tfidf_vect = TfidfVectorizer(min_df=5, ngram_range=(1,3)).fit(X_train)\n",
    "    X_train_vect = tfidf_vect.transform(X_train)\n",
    "    \n",
    "    # add features\n",
    "    X_train_len = [len(doc) for doc in X_train]\n",
    "    X_train_dig = [sum([1 for char in doc if char.isdigit()]) for doc in X_train]\n",
    "    \n",
    "    X_train_vect = add_feature(X_train_vect, X_train_len)\n",
    "    X_train_vect = add_feature(X_train_vect, X_train_dig)\n",
    "    \n",
    "    lr = LogisticRegression(C = 100, solver = 'liblinear').fit(X_train_vect, y_train)\n",
    "    \n",
    "    # transform testing set\n",
    "    X_test_vect = tfidf_vect.transform(X_test)\n",
    "    \n",
    "    # add features to testing set\n",
    "    X_test_len = [len(doc) for doc in X_test]\n",
    "    X_test_dig = [sum([1 for char in doc if char.isdigit()]) for doc in X_test]\n",
    "    \n",
    "    X_test_vect = add_feature(X_test_vect, X_test_len)\n",
    "    X_test_vect = add_feature(X_test_vect, X_test_dig)\n",
    "    \n",
    "    # predict test data\n",
    "    # Note: although one should use predict_proba\n",
    "    # the grader incorrectly expects predict to be\n",
    "    # used.\n",
    "#     y_pred = lr.predict_proba(X_test_vect).T[1]\n",
    "    y_pred = lr.predict(X_test_vect)\n",
    "    \n",
    "    return roc_auc_score(y_test, y_pred)\n",
    "# answer_nine()"
   ]
  },
  {
   "cell_type": "markdown",
   "metadata": {},
   "source": [
    "### Question 10\n",
    "\n",
    "What is the average number of non-word characters (anything other than a letter, digit or underscore) per document for not spam and spam documents?\n",
    "\n",
    "*Hint: Use `\\w` and `\\W` character classes*\n",
    "\n",
    "*This function should return a tuple (average # non-word characters not spam, average # non-word characters spam).*"
   ]
  },
  {
   "cell_type": "code",
   "execution_count": null,
   "metadata": {},
   "outputs": [],
   "source": [
    "def answer_ten():\n",
    "    sd = spam_data.copy()\n",
    "    sd['non_word'] = sd['text'].str.findall(r'\\W').str.len()\n",
    "    avg = sd.groupby('target')['non_word'].mean()\n",
    "    \n",
    "    return (avg[0], avg[1])\n",
    "# answer_ten()"
   ]
  },
  {
   "cell_type": "markdown",
   "metadata": {},
   "source": [
    "### Question 11\n",
    "\n",
    "Fit and transform the training data X_train using a Count Vectorizer ignoring terms that have a document frequency strictly lower than **5** and using **character n-grams from n=2 to n=5.**\n",
    "\n",
    "To tell Count Vectorizer to use character n-grams pass in `analyzer='char_wb'` which creates character n-grams only from text inside word boundaries. This should make the model more robust to spelling mistakes.\n",
    "\n",
    "Using this document-term matrix and the following additional features:\n",
    "* the length of document (number of characters)\n",
    "* number of digits per document\n",
    "* **number of non-word characters (anything other than a letter, digit or underscore.)**\n",
    "\n",
    "fit a Logistic Regression model with regularization C=100. Then compute the area under the curve (AUC) score using the transformed test data.\n",
    "\n",
    "Also **find the 10 smallest and 10 largest coefficients from the model** and return them along with the AUC score in a tuple.\n",
    "\n",
    "The list of 10 smallest coefficients should be sorted smallest first, the list of 10 largest coefficients should be sorted largest first.\n",
    "\n",
    "The three features that were added to the document term matrix should have the following names should they appear in the list of coefficients:\n",
    "['length_of_doc', 'digit_count', 'non_word_char_count']\n",
    "\n",
    "*This function should return a tuple `(AUC score as a float, smallest coefs list, largest coefs list)`.*"
   ]
  },
  {
   "cell_type": "code",
   "execution_count": null,
   "metadata": {},
   "outputs": [],
   "source": [
    "from sklearn.feature_extraction.text import CountVectorizer\n",
    "from sklearn.metrics import roc_auc_score\n",
    "from sklearn.linear_model import LogisticRegression\n",
    "import re\n",
    "\n",
    "def answer_eleven():\n",
    "    # Train vectorizer and transform training set\n",
    "    cv = CountVectorizer(min_df=5, ngram_range=(2,5), analyzer='char_wb').fit(X_train)\n",
    "    X_train_vect = cv.transform(X_train)\n",
    "    \n",
    "    # add features\n",
    "    X_train_len = [len(doc) for doc in X_train]\n",
    "    X_train_dig = [sum([1 for char in doc if char.isdigit()]) for doc in X_train]\n",
    "    X_train_nan = [sum([1 for char in doc if bool(re.match(r'\\W', char))]) for doc in X_train]\n",
    "    \n",
    "    X_train_vect = add_feature(X_train_vect, X_train_len)\n",
    "    X_train_vect = add_feature(X_train_vect, X_train_dig)\n",
    "    X_train_vect = add_feature(X_train_vect, X_train_nan)\n",
    "    \n",
    "    lr = LogisticRegression(C = 100, solver = 'liblinear').fit(X_train_vect, y_train)\n",
    "    \n",
    "    # transform testing set\n",
    "    X_test_vect = cv.transform(X_test)\n",
    "    \n",
    "    # add features to testing set\n",
    "    X_test_len = [len(doc) for doc in X_test]\n",
    "    X_test_dig = [sum([1 for char in doc if char.isdigit()]) for doc in X_test]\n",
    "    X_test_nan = [sum([1 for char in doc if bool(re.match(r'\\W', char))]) for doc in X_test]\n",
    "    \n",
    "    X_test_vect = add_feature(X_test_vect, X_test_len)\n",
    "    X_test_vect = add_feature(X_test_vect, X_test_dig)\n",
    "    X_test_vect = add_feature(X_test_vect, X_test_nan)\n",
    "    \n",
    "    # predict test data\n",
    "    # Note: although one should use predict_proba\n",
    "    # the grader incorrectly expects predict to be\n",
    "    # used.\n",
    "#     y_pred = lr.predict_proba(X_test_vect).T[1]\n",
    "    y_pred = lr.predict(X_test_vect)\n",
    "    \n",
    "    # Find smallest & largest coefficients\n",
    "    feat_names = np.array(cv.get_feature_names()\n",
    "                          + ['length_of_doc', 'digit_count', 'non_word_char_count'])\n",
    "    \n",
    "    sorted_indices = lr.coef_[0].argsort()\n",
    "    \n",
    "    smallest = pd.Series(feat_names[sorted_indices[:10]])\n",
    "    largest = pd.Series(feat_names[sorted_indices[:-11:-1]])\n",
    "    \n",
    "    smallest.name = None\n",
    "    smallest.index.name = None\n",
    "    largest.name = None\n",
    "    largest.index.name = None\n",
    "    \n",
    "    return (roc_auc_score(y_test, y_pred), smallest, largest)\n",
    "# answer_eleven()"
   ]
  }
 ],
 "metadata": {
  "coursera": {
   "course_slug": "python-text-mining",
   "graded_item_id": "Pn19K",
   "launcher_item_id": "y1juS",
   "part_id": "ctlgo"
  },
  "kernelspec": {
   "display_name": "Python 3",
   "language": "python",
   "name": "python3"
  },
  "language_info": {
   "codemirror_mode": {
    "name": "ipython",
    "version": 3
   },
   "file_extension": ".py",
   "mimetype": "text/x-python",
   "name": "python",
   "nbconvert_exporter": "python",
   "pygments_lexer": "ipython3",
   "version": "3.7.0b4"
  }
 },
 "nbformat": 4,
 "nbformat_minor": 2
}
